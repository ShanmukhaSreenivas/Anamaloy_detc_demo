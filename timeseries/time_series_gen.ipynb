{
 "cells": [
  {
   "cell_type": "code",
   "execution_count": 1,
   "metadata": {},
   "outputs": [],
   "source": [
    "import pandas as pd\n",
    "\n",
    "df_LEAKAGE_181 = pd.read_excel('../dataset/Leakage variables.for Last oneand year.xlsx', skiprows=4, sheet_name='DIHD181')\n",
    "df_LEAKAGE_182 = pd.read_excel('../dataset/Leakage variables.for Last oneand year.xlsx', skiprows=4, sheet_name='DIHD182')\n",
    "df_LEAKAGE_183 = pd.read_excel('../dataset/Leakage variables.for Last oneand year.xlsx', skiprows=4, sheet_name='DIHD183')\n"
   ]
  },
  {
   "cell_type": "code",
   "execution_count": 2,
   "metadata": {},
   "outputs": [],
   "source": [
    "#df_LEAKAGE = pd.concat([df_LEAKAGE_181,df_LEAKAGE_182,df_LEAKAGE_183],ignore_index=True)\n",
    "df_LEAKAGE = df_LEAKAGE_182.copy()\n",
    "df_LEAKAGE['Time'] = pd.to_datetime(df_LEAKAGE['Time'])\n",
    "df_LEAKAGE.dropna(axis=0, subset=['Time'],inplace=True)\n"
   ]
  },
  {
   "cell_type": "code",
   "execution_count": 3,
   "metadata": {},
   "outputs": [],
   "source": [
    "df_UT = pd.DataFrame()\n",
    "\n",
    "df_UT['Time'] = list(df_LEAKAGE['Time'].unique())\n",
    "df_UT.sort_values('Time', inplace=True)"
   ]
  },
  {
   "cell_type": "code",
   "execution_count": 4,
   "metadata": {},
   "outputs": [],
   "source": [
    "temp_list_desc = []\n",
    "temp_product = []\n",
    "for ind_date in list(df_UT['Time']):\n",
    "    temp_product.append(df_LEAKAGE[(df_LEAKAGE['Time'] == ind_date)]['Product'].unique()[0])\n"
   ]
  },
  {
   "cell_type": "code",
   "execution_count": 5,
   "metadata": {},
   "outputs": [],
   "source": [
    "df_UT['Product Description'] = temp_product"
   ]
  },
  {
   "cell_type": "code",
   "execution_count": 6,
   "metadata": {},
   "outputs": [],
   "source": [
    "def desc_finder(row):\n",
    "    while row['Product Description'] != None:\n",
    "        if row['Product Description'].find('HL2') != -1:\n",
    "            return \"HL2\"\n",
    "        elif row['Product Description'].find('DLITE') != -1:\n",
    "            return \"DLITE\"\n",
    "        elif row['Product Description'].find('HL1') != -1:\n",
    "            return \"HL1\"\n",
    "        elif row['Product Description'].find('HOLI') != -1:\n",
    "            return \"HOLI\"\n",
    "        elif row['Product Description'].find('DENIM8') != -1:\n",
    "            return \"DENIM8\"\n",
    "        elif row['Product Description'].find('HOLI2') != -1:\n",
    "            return \"HOLI2\"\n",
    "        elif row['Product Description'].find('DL2') != -1:\n",
    "            return \"DL2\"\n",
    "        else:\n",
    "            return None\n",
    "\n",
    "df_UT['Description'] = df_UT.apply(desc_finder, axis=1)\n"
   ]
  },
  {
   "cell_type": "code",
   "execution_count": 7,
   "metadata": {},
   "outputs": [],
   "source": [
    "def prodDescToSize(row):\n",
    "    # print(type(row['Product']))\n",
    "    prodDesc = row['Product Description'].split()\n",
    "    \n",
    "    if prodDesc[2][0:2] == 'SM':\n",
    "        return 1\n",
    "    elif prodDesc[2][0:2] == 'MD':\n",
    "        return 3\n",
    "    elif prodDesc[2][0:2] == 'LG':\n",
    "        return 4\n",
    "    else:\n",
    "        return 5\n",
    "df_UT['Size'] = df_UT.apply(prodDescToSize, axis=1)\n",
    "df_UT['Size'] = pd.to_numeric(df_UT['Size'], errors='coerce')"
   ]
  },
  {
   "cell_type": "code",
   "execution_count": 8,
   "metadata": {},
   "outputs": [],
   "source": [
    "df_UT['Prod_Line'] = int(list(df_LEAKAGE['Line'].unique())[0][-1])"
   ]
  },
  {
   "cell_type": "code",
   "execution_count": 9,
   "metadata": {},
   "outputs": [],
   "source": [
    "var_desc = list(df_LEAKAGE['Variable Description'].unique())"
   ]
  },
  {
   "cell_type": "code",
   "execution_count": 10,
   "metadata": {},
   "outputs": [],
   "source": [
    "for var in var_desc:\n",
    "    df_UT = pd.merge(df_UT,df_LEAKAGE[df_LEAKAGE['Variable Description'] == var],how='left',on='Time')\n",
    "    df_UT.drop(columns=['Variable Description','Line', 'Entry On', 'Product', 'Product Group', 'Process Order', 'User', 'Production Event (Sample Id)', 'Comments'],inplace=True)\n",
    "    df_UT.rename(columns={'Value': 'Value_'+var, 'LSL': 'LSL_'+var, 'LCL': 'LCL_'+var, 'Target': 'Target_'+var, 'UCL': 'UCL_'+var, 'USL': 'USL_'+var}, inplace=True)\n",
    "    df_UT.sort_values('Time', inplace=True)"
   ]
  },
  {
   "cell_type": "code",
   "execution_count": 11,
   "metadata": {},
   "outputs": [],
   "source": [
    "# for var in var_desc:\n",
    "#     df_UT = pd.merge(df_UT,df_LEAKAGE[df_LEAKAGE['Variable Description'] == var],how='left',on='Time')\n",
    "#     df_UT.drop(columns=['Variable Description','Line', 'Entry On', 'Product', 'Product Group', 'Process Order', 'User', 'Production Event (Sample Id)', 'Comments','LSL','LCL','USL','UCL','Target'],inplace=True)\n",
    "#     df_UT.rename(columns={'Value': var}, inplace=True)\n",
    "#     df_UT.sort_values('Time', inplace=True)"
   ]
  },
  {
   "cell_type": "code",
   "execution_count": 12,
   "metadata": {},
   "outputs": [],
   "source": [
    "df_UT.fillna(method=\"ffill\",inplace=True)\n",
    "df_UT.fillna(method=\"bfill\",inplace=True)\n"
   ]
  },
  {
   "cell_type": "code",
   "execution_count": 13,
   "metadata": {},
   "outputs": [],
   "source": [
    "df_UT['Date'] = df_UT['Time'].dt.date"
   ]
  },
  {
   "cell_type": "code",
   "execution_count": 14,
   "metadata": {},
   "outputs": [
    {
     "data": {
      "text/plain": [
       "(2381, 50)"
      ]
     },
     "execution_count": 14,
     "metadata": {},
     "output_type": "execute_result"
    }
   ],
   "source": [
    "df_BFC = pd.read_excel('../dataset/BFC Consumer Comments MAIN_BFC CC Listing - 2021-12-14T152352.357.xlsx')\n",
    "df_BFC.shape"
   ]
  },
  {
   "cell_type": "code",
   "execution_count": 15,
   "metadata": {},
   "outputs": [
    {
     "data": {
      "text/plain": [
       "(110, 53)"
      ]
     },
     "execution_count": 15,
     "metadata": {},
     "output_type": "execute_result"
    }
   ],
   "source": [
    "def prodLine(row):\n",
    "    if len(row['Production Code']) > 10:\n",
    "        if row['Production Code'] == '0345B09503511':\n",
    "            return 0\n",
    "        else:\n",
    "            return 1\n",
    "    return row['Production Code'][-2]\n",
    "def sizeCreate(row):\n",
    "    # print(type(row['Product Size']))\n",
    "    if  isinstance(row['Product Size'], float):\n",
    "        return None\n",
    "    else:\n",
    "        return row['Product Size'][0]\n",
    "df_BFC = df_BFC.loc[df_BFC['Manufacturing Plant'] == 'B095'].copy()\n",
    "df_BFC['Date'] = pd.to_datetime(df_BFC['Manufacturing Date']).dt.date\n",
    "df_BFC.dropna(axis=0, subset=['Manufacturing Date'],inplace=True)\n",
    "df_BFC['Prod_Line'] = df_BFC.apply(prodLine, axis=1)\n",
    "df_BFC['Size'] = df_BFC.apply(sizeCreate, axis=1)\n",
    "df_BFC.dropna(axis=0, subset=['Product Size'],inplace=True)\n",
    "df_BFC['Size'] = pd.to_numeric(df_BFC['Size'], errors='coerce')\n",
    "df_BFC['Prod_Line'] = pd.to_numeric(df_BFC['Prod_Line'], errors='coerce')\n",
    "df_BFC.shape"
   ]
  },
  {
   "cell_type": "code",
   "execution_count": 16,
   "metadata": {},
   "outputs": [
    {
     "data": {
      "text/plain": [
       "GCR16462516    3\n",
       "GCR15008415    3\n",
       "GCR14277126    2\n",
       "GCR16283373    2\n",
       "GCR14077660    2\n",
       "              ..\n",
       "GCR14135718    1\n",
       "GCR13425231    1\n",
       "GCR14412926    1\n",
       "GCR14251676    1\n",
       "GCR17271833    1\n",
       "Name: Internal Case Id, Length: 94, dtype: int64"
      ]
     },
     "execution_count": 16,
     "metadata": {},
     "output_type": "execute_result"
    }
   ],
   "source": [
    "df_BFC['Internal Case Id'].value_counts()"
   ]
  },
  {
   "cell_type": "code",
   "execution_count": 17,
   "metadata": {},
   "outputs": [],
   "source": [
    "df_merged_final = pd.merge(df_UT,df_BFC[['Date','Size','Prod_Line','Internal Case Id','Contact Summary English1','L3 Comment Code/Comment Description']],how='left',on=['Date','Prod_Line','Size'])"
   ]
  },
  {
   "cell_type": "code",
   "execution_count": 18,
   "metadata": {},
   "outputs": [
    {
     "data": {
      "text/plain": [
       "GCR14135718    25\n",
       "GCR15690312    25\n",
       "GCR16172109    24\n",
       "GCR15204721    23\n",
       "GCR16574110    23\n",
       "GCR16912286    23\n",
       "GCR17068057    23\n",
       "GCR16716752    16\n",
       "GCR16595247    16\n",
       "GCR16997189    10\n",
       "GCR16247547    10\n",
       "Name: Internal Case Id, dtype: int64"
      ]
     },
     "execution_count": 18,
     "metadata": {},
     "output_type": "execute_result"
    }
   ],
   "source": [
    "df_merged_final['Internal Case Id'].value_counts()"
   ]
  },
  {
   "cell_type": "code",
   "execution_count": 19,
   "metadata": {},
   "outputs": [],
   "source": [
    "df_merged_final.to_csv('timeseriesMerge_182.csv')"
   ]
  },
  {
   "cell_type": "code",
   "execution_count": 20,
   "metadata": {},
   "outputs": [
    {
     "data": {
      "text/plain": [
       "Index(['Time', 'Product Description', 'Description', 'Size', 'Prod_Line',\n",
       "       '10181 DAL Weight CC', '10206 DAL Placement MD CC',\n",
       "       '10207 CS10 Patch to AQL Placement MD CC',\n",
       "       '10210 IC Elastic Glue/Pucker Length OP CC',\n",
       "       '10211 IC Elastic Glue/Pucker Length DS CC',\n",
       "       '10214 OC Elastic Glue/Pucker Length OP CC',\n",
       "       '10215 OC Elastic Glue/Pucker Length DS CC',\n",
       "       '10944 Core Weight Septile 1-4 Front 50% CC',\n",
       "       '10945 Total Core Weight P1 CC', '10946 Total Core Weight P2 CC',\n",
       "       '10988 Core Endflap Length UTE P1 CC (Leakage)',\n",
       "       '10989 Core Endflap Length UTE P2 CC (Leakage)',\n",
       "       '10990 Core Endflap Length UTE P3 CC (Leakage)',\n",
       "       '10991 Core Endflap Length UTE P4 CC (Leakage)',\n",
       "       '11442 CS10 Patch Placement CD CC',\n",
       "       '12724 Chassis Endflap Length Front CC',\n",
       "       '12725 IC Elastic Glue/Pucker Plmt Front OP CC',\n",
       "       '12726 IC Elastic Glue/Pucker Plmt Front DS CC',\n",
       "       '12727 OC Elastic Glue/Pucker Plmt Back OP CC',\n",
       "       '12728 OC Elastic Glue/Pucker Plmt Back DS CC',\n",
       "       '17898 Core Hang Time -ln@23C Single Pad 1(Leakage)',\n",
       "       'z_obs 10924 Core Hang Time -ln@23C Single Pad 2',\n",
       "       'z_obs 10935 Core Hang Time -ln@23C Single Pad 3',\n",
       "       'z_obs 10936 Core Hang Time -ln@23C Single Pad 4',\n",
       "       'z_obs 10937 Core Hang Time -ln@23C Single Pad 5', 'Date',\n",
       "       'Internal Case Id', 'Contact Summary English1',\n",
       "       'L3 Comment Code/Comment Description'],\n",
       "      dtype='object')"
      ]
     },
     "execution_count": 20,
     "metadata": {},
     "output_type": "execute_result"
    }
   ],
   "source": [
    "df_merged_final.columns"
   ]
  },
  {
   "cell_type": "code",
   "execution_count": 21,
   "metadata": {},
   "outputs": [],
   "source": [
    "import numpy as np\n",
    "for bol in list(df_merged_final[df_merged_final['Internal Case Id'].notna()]['L3 Comment Code/Comment Description'].notnull()):\n",
    "    if bol == False:\n",
    "        print('voilation')"
   ]
  },
  {
   "cell_type": "code",
   "execution_count": 22,
   "metadata": {},
   "outputs": [],
   "source": [
    "# Just for Validation\n",
    "\n",
    "# for ind_date in list(df_UT['Time']):\n",
    "#     #print(len(list(df_LEAKAGE[(df_LEAKAGE['Time'] == ind_date)]['Product Group'].unique())) == 1)\n",
    "#     print(df_LEAKAGE[(df_LEAKAGE['Time'] == ind_date)]['Product Group'].unique()[0])\n",
    "#     break"
   ]
  },
  {
   "cell_type": "code",
   "execution_count": 23,
   "metadata": {},
   "outputs": [],
   "source": [
    "# for ind_date in list_dates:\n",
    "    \n",
    "#     temp_times = list(df_LEAKAGE[df_LEAKAGE['Date'] == ind_date]['Time_in_hrs'].unique())\n",
    "#     temp_vars =  list(df_LEAKAGE[df_LEAKAGE['Date'] == ind_date]['Variable Description'].unique())\n",
    "\n",
    "#     for var_des in temp_vars:\n",
    "#         for time in temp_times:\n",
    "#             if df_LEAKAGE[(df_LEAKAGE['Date'] == ind_date) & (df_LEAKAGE['Variable Description'] == var_des) & (df_LEAKAGE['Time_in_hrs'] == time)].shape[0] == 0:\n",
    "#                 df_LEAKAGE.append(df_LEAKAGE[(df_LEAKAGE['Date'] == ind_date) & (df_LEAKAGE['Variable Description'] == var_des)].assign(**{'Time_in_hrs': time}), ignore_index=True)\n",
    "#                 print(df_LEAKAGE[(df_LEAKAGE['Date'] == ind_date) & (df_LEAKAGE['Variable Description'] == var_des)].assign(**{'Time_in_hrs': time}),'\\n')\n",
    "#                 print(df_LEAKAGE.shape,'\\n')\n",
    "\n"
   ]
  }
 ],
 "metadata": {
  "interpreter": {
   "hash": "31f2aee4e71d21fbe5cf8b01ff0e069b9275f58929596ceb00d14d90e3e16cd6"
  },
  "kernelspec": {
   "display_name": "Python 3.8.9 64-bit",
   "language": "python",
   "name": "python3"
  },
  "language_info": {
   "codemirror_mode": {
    "name": "ipython",
    "version": 3
   },
   "file_extension": ".py",
   "mimetype": "text/x-python",
   "name": "python",
   "nbconvert_exporter": "python",
   "pygments_lexer": "ipython3",
   "version": "3.8.9"
  },
  "orig_nbformat": 4
 },
 "nbformat": 4,
 "nbformat_minor": 2
}
